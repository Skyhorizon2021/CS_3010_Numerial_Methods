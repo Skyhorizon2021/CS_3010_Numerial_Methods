{
 "cells": [
  {
   "cell_type": "code",
   "execution_count": 18,
   "id": "ab551fb0",
   "metadata": {},
   "outputs": [
    {
     "name": "stdout",
     "output_type": "stream",
     "text": [
      "[[ 2.          1.         -1.        ]\n",
      " [ 0.          0.5         0.5       ]\n",
      " [ 0.66666667 -0.66666667  0.66666667]]\n"
     ]
    }
   ],
   "source": [
    "import numpy as np\n",
    "\n",
    "#calculate the coeficient v2Tv1/v1Tv1\n",
    "def gs_coef(v1,v2):\n",
    "    return np.dot(v2,v1)/np.dot(v1,v1)\n",
    "\n",
    "#multiply a coeficient with a vector \n",
    "def mul(coef, v):\n",
    "    return map((lambda x: x*coef),v)\n",
    "\n",
    "#calculate the projection\n",
    "def proj(v1,v2):\n",
    "    return mul(gs_coef(v1,v2),v1)\n",
    "\n",
    "#iterate to calculate orthonormal vector\n",
    "def gs(arr_of_vector):\n",
    "    \n",
    "    arr_of_ortho_vector = []\n",
    "    \n",
    "    for v in range(len(arr_of_vector)):\n",
    "        current_vec = arr_of_vector[v]\n",
    "        #as more ortho vector is in the array, this part will be run more correspondingly\n",
    "        for i in arr_of_ortho_vector:\n",
    "            proj_vec = proj(i, current_vec)\n",
    "            current_vec = list(map(lambda x,y : x - y, current_vec,proj_vec))\n",
    "            \n",
    "        arr_of_ortho_vector.append(current_vec)\n",
    "        \n",
    "    return arr_of_ortho_vector\n",
    "\n",
    "def main():\n",
    "    #initialize vectors\n",
    "    v1 = [2,1,-1]\n",
    "    v2 = [1,1,0]\n",
    "    v3 = [0,-1,1]\n",
    "    \n",
    "    given_vec = np.array([v1,v2,v3])\n",
    "\n",
    "    print (np.array(gs(given_vec)))\n",
    "\n",
    "if __name__ == \"__main__\":\n",
    "    main()"
   ]
  },
  {
   "cell_type": "code",
   "execution_count": null,
   "id": "dc25781c",
   "metadata": {},
   "outputs": [],
   "source": []
  }
 ],
 "metadata": {
  "kernelspec": {
   "display_name": "Python 3 (ipykernel)",
   "language": "python",
   "name": "python3"
  },
  "language_info": {
   "codemirror_mode": {
    "name": "ipython",
    "version": 3
   },
   "file_extension": ".py",
   "mimetype": "text/x-python",
   "name": "python",
   "nbconvert_exporter": "python",
   "pygments_lexer": "ipython3",
   "version": "3.11.5"
  }
 },
 "nbformat": 4,
 "nbformat_minor": 5
}
